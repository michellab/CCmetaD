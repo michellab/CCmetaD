{
 "cells": [
  {
   "cell_type": "code",
   "execution_count": null,
   "metadata": {},
   "outputs": [],
   "source": [
    "import mdtraj as md\n",
    "import numpy as np\n",
    "import matplotlib.pyplot as plt\n",
    "import glob"
   ]
  },
  {
   "cell_type": "code",
   "execution_count": null,
   "metadata": {},
   "outputs": [],
   "source": [
    "def write_pmf_file(rep_dir):\n",
    "\n",
    "    # combine CV range file and normalised free energy file\n",
    "    with open(rep_dir+'cv_fe_norm_kcal.txt', 'w') as comb_file:\n",
    "        with open(rep_dir+'cv_range.txt', 'r') as cv_fl:\n",
    "            with open(rep_dir+'fe_norm_kcal.txt', 'r') as fe_norm_fl:\n",
    "                for line1, line2 in zip(cv_fl, fe_norm_fl):\n",
    "                    print(line1.strip(), line2.strip(), file=comb_file)"
   ]
  },
  {
   "cell_type": "code",
   "execution_count": null,
   "metadata": {},
   "outputs": [],
   "source": [
    "replicate_dirs = 'replicate-*/'\n",
    "\n",
    "for rep_dir in glob.glob(replicate_dirs):\n",
    "    write_pmf_file(rep_dir)"
   ]
  },
  {
   "cell_type": "code",
   "execution_count": null,
   "metadata": {},
   "outputs": [],
   "source": [
    "fe_files = glob.glob('replicate-*/fe_norm_kcal.txt')\n",
    "cv_range_files = glob.glob('replicate-*/cv_range.txt')\n",
    "\n",
    "fe_files.sort()\n",
    "cv_range_files.sort()"
   ]
  },
  {
   "cell_type": "code",
   "execution_count": null,
   "metadata": {},
   "outputs": [],
   "source": [
    "fe_data = []\n",
    "cv_data = []\n",
    "\n",
    "for fe_file, cv_file in zip(fe_files, cv_range_files):\n",
    "    x = np.loadtxt(cv_file)\n",
    "    y = np.loadtxt(fe_file)\n",
    "\n",
    "    cv_data.append(x)\n",
    "    fe_data.append(y)"
   ]
  },
  {
   "cell_type": "code",
   "execution_count": null,
   "metadata": {},
   "outputs": [],
   "source": [
    "for i, (x, y) in enumerate(zip(cv_data, fe_data)):\n",
    "    plt.plot(x, y, label=f'replicate {i+1}')\n",
    "\n",
    "plt.xlabel('CV') # angles and dihedrals in rad, r in nm, RMSD in A\n",
    "plt.ylabel('PMF / kcal mol$^{-1}$')\n",
    "plt.legend()\n",
    "plt.show()"
   ]
  },
  {
   "cell_type": "code",
   "execution_count": null,
   "metadata": {},
   "outputs": [],
   "source": [
    "fe_data_avg = np.mean(np.stack(fe_data), axis=0)\n",
    "fe_data_avg_norm = fe_data_avg - np.min(fe_data_avg)\n",
    "fe_data_std = np.std(np.stack(fe_data), axis=0)"
   ]
  },
  {
   "cell_type": "code",
   "execution_count": null,
   "metadata": {},
   "outputs": [],
   "source": [
    "plt.errorbar(cv_data[0], fe_data_avg_norm, yerr=fe_data_std/np.sqrt(len(fe_data)), fmt = 'none', ecolor='powderblue', elinewidth = 0.6, capsize = 1)\n",
    "plt.plot(cv_data[0], fe_data_avg_norm, color='royalblue')\n",
    "plt.xlabel('CV') # angles and dihedrals in rad, r in nm, RMSD in A\n",
    "plt.ylabel('PMF / kcal mol$^{-1}$')\n",
    "plt.show()"
   ]
  }
 ],
 "metadata": {
  "kernelspec": {
   "display_name": "Python 3 (ipykernel)",
   "language": "python",
   "name": "python3"
  },
  "language_info": {
   "codemirror_mode": {
    "name": "ipython",
    "version": 3
   },
   "file_extension": ".py",
   "mimetype": "text/x-python",
   "name": "python",
   "nbconvert_exporter": "python",
   "pygments_lexer": "ipython3",
   "version": "3.9.12"
  },
  "vscode": {
   "interpreter": {
    "hash": "695f82c0633f4c1f722dbd62a390a332158c8c391b71194eea38c748518aa5db"
   }
  }
 },
 "nbformat": 4,
 "nbformat_minor": 2
}
