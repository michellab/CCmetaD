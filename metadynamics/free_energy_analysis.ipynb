{
 "cells": [
  {
   "cell_type": "code",
   "execution_count": null,
   "metadata": {},
   "outputs": [],
   "source": [
    "import numpy as np\n",
    "import math\n",
    "import glob"
   ]
  },
  {
   "cell_type": "code",
   "execution_count": null,
   "metadata": {},
   "outputs": [],
   "source": [
    "temperature = 298.15 # K\n",
    "boltzmann = 0.0019872041 # kcal/mol K\n",
    "beta = 1.0/(boltzmann*temperature)"
   ]
  },
  {
   "cell_type": "code",
   "execution_count": null,
   "metadata": {},
   "outputs": [],
   "source": [
    "# edit if needed\n",
    "\n",
    "k_boresch = 100 # kcal/mol rad**2\n",
    "k_rmsd = 100 # kcal/mol A**2\n",
    "sep_cv_max = 6 # nm"
   ]
  },
  {
   "cell_type": "code",
   "execution_count": null,
   "metadata": {},
   "outputs": [],
   "source": [
    "standard_volume = 1660 # angstroms^3\n",
    "standard_volume_nm = standard_volume*0.001 # nm^3\n",
    "radius_sphere = (3*standard_volume_nm/(4*np.pi))**(1.0/3.0) # radius of sphere whose volume is equal to the standard volume in nm"
   ]
  },
  {
   "cell_type": "code",
   "execution_count": null,
   "metadata": {},
   "outputs": [],
   "source": [
    "def readPMF(file): # read PMF file CV range and Free Energy data\n",
    "    \n",
    "    data = np.loadtxt(file)\n",
    "    x = data[:,0]\n",
    "    y = data[:,1]\n",
    "\n",
    "    return np.array((x, y))"
   ]
  },
  {
   "cell_type": "code",
   "execution_count": null,
   "metadata": {},
   "outputs": [],
   "source": [
    "def geometric_restraint(pmf, k_restraint, rmsd=False, unbound=False):\n",
    "        \n",
    "        width = pmf[0][1] - pmf[0][0]\n",
    "\n",
    "        if rmsd:\n",
    "            restraint_center = 0 # for the RMSD restraint, the minimum is 0\n",
    "        else:\n",
    "            restraint_center = pmf[0][np.argmin(pmf[1])] # the minimum of the PMF from the PMF file\n",
    "            \n",
    "\n",
    "        numerator = 0\n",
    "        denominator = 0\n",
    "        for x, y in zip(pmf[0], pmf[1]):\n",
    "            numerator += width*math.exp(-beta*y)\n",
    "            denominator += width*math.exp((-beta)*(y+0.5*k_restraint*((x-restraint_center)**2)))\n",
    "        \n",
    "        contribution = math.log(numerator/denominator)/beta\n",
    "\n",
    "        if unbound:\n",
    "            return contribution\n",
    "        else:\n",
    "            return -contribution"
   ]
  },
  {
   "cell_type": "code",
   "execution_count": null,
   "metadata": {},
   "outputs": [],
   "source": [
    "def separation_pmf(pmf, r_star):\n",
    "    \n",
    "\n",
    "    w_r_star = pmf[1][0]\n",
    "    for x, y in zip(pmf[0], pmf[1]):\n",
    "        if x >= r_star:\n",
    "            w_r_star = y\n",
    "            break\n",
    "        \n",
    "    width = pmf[0][1] - pmf[0][0]\n",
    "    I = 0\n",
    "    for x, y in zip(pmf[0], pmf[1]):\n",
    "        I += width*math.exp(-beta*(y-w_r_star))\n",
    "        if x >= r_star:\n",
    "            break\n",
    "\n",
    "    return -1/(beta)*math.log(3*I/radius_sphere)"
   ]
  },
  {
   "cell_type": "code",
   "execution_count": null,
   "metadata": {},
   "outputs": [],
   "source": [
    "def boresch_correction(r_star, theta_a_min, theta_b_min, k_boresch):\n",
    "    corr = (r_star**2)*math.sin(theta_a_min)*math.sin(theta_b_min)*(2*np.pi/beta)**2.5/(8*(np.pi**2)*(4*np.pi*radius_sphere**2)*(k_boresch)**2.5)\n",
    "\n",
    "    return -1/(beta)*math.log(corr)"
   ]
  },
  {
   "cell_type": "code",
   "execution_count": null,
   "metadata": {},
   "outputs": [],
   "source": [
    "def dg_contributions_restraints(CV_dir, k_restraint, rmsd=False, unbound=False):\n",
    "    dg_list = []\n",
    "\n",
    "    replicate_dirs = 'replicate-*/cv_fe_norm_kcal.txt'\n",
    "    \n",
    "    for rep_dir in glob.glob(CV_dir+replicate_dirs):\n",
    "        pmf = readPMF(rep_dir)\n",
    "        dg = geometric_restraint(pmf, k_restraint, rmsd, unbound)\n",
    "        dg_list.append(dg)\n",
    "    \n",
    "    return(dg_list)"
   ]
  },
  {
   "cell_type": "code",
   "execution_count": null,
   "metadata": {},
   "outputs": [],
   "source": [
    "def dg_contributions_separation(CV_dir, r_star):\n",
    "\n",
    "    dg_list = []\n",
    "\n",
    "    replicate_dirs = 'replicate-*/cv_fe_norm_kcal.txt'\n",
    "\n",
    "    for rep_dir in glob.glob(CV_dir+replicate_dirs):\n",
    "        pmf = readPMF(rep_dir)\n",
    "        dg = separation_pmf(pmf, r_star)\n",
    "        dg_list.append(dg)\n",
    "    \n",
    "    return(dg_list)"
   ]
  },
  {
   "cell_type": "markdown",
   "metadata": {},
   "source": [
    "RMSD - Bound State"
   ]
  },
  {
   "cell_type": "code",
   "execution_count": null,
   "metadata": {},
   "outputs": [],
   "source": [
    "rmsd_bound_dir = 'rmsd_bound/'\n",
    "found_rmsd_bound = glob.glob(f'**/{rmsd_bound_dir}/', recursive=True)\n",
    "\n",
    "if found_rmsd_bound:\n",
    "    rmsd_bound = True\n",
    "else:\n",
    "    rmsd_bound = False"
   ]
  },
  {
   "cell_type": "code",
   "execution_count": null,
   "metadata": {},
   "outputs": [],
   "source": [
    "rmsd_bound"
   ]
  },
  {
   "cell_type": "code",
   "execution_count": null,
   "metadata": {},
   "outputs": [],
   "source": [
    "if rmsd_bound:\n",
    "    dg_rmsd_bound_list = dg_contributions_restraints(rmsd_bound_dir, k_rmsd, rmsd=True)\n",
    "\n",
    "    dg_rmsd_bound = (round(np.mean(dg_rmsd_bound_list), 2))\n",
    "\n",
    "    print(str(round(np.mean(dg_rmsd_bound_list), 2))+' +- '+str(round(np.std(dg_rmsd_bound_list)/np.sqrt(len(dg_rmsd_bound_list)), 2)))"
   ]
  },
  {
   "cell_type": "markdown",
   "metadata": {},
   "source": [
    "Boresch Theta A"
   ]
  },
  {
   "cell_type": "code",
   "execution_count": null,
   "metadata": {},
   "outputs": [],
   "source": [
    "dg_theta_a_list = dg_contributions_restraints('1_boresch_theta_a/', k_boresch)\n",
    "dg_theta_a_list"
   ]
  },
  {
   "cell_type": "code",
   "execution_count": null,
   "metadata": {},
   "outputs": [],
   "source": [
    "dg_theta_a = (round(np.mean(dg_theta_a_list), 2))\n",
    "\n",
    "print(str(round(np.mean(dg_theta_a_list), 2))+' +- '+str(round(np.std(dg_theta_a_list)/np.sqrt(len(dg_theta_a_list)), 2)))"
   ]
  },
  {
   "cell_type": "markdown",
   "metadata": {},
   "source": [
    "Boresch Theta B"
   ]
  },
  {
   "cell_type": "code",
   "execution_count": null,
   "metadata": {},
   "outputs": [],
   "source": [
    "dg_theta_b_list = dg_contributions_restraints('2_boresch_theta_b/', k_boresch)\n",
    "dg_theta_b_list"
   ]
  },
  {
   "cell_type": "code",
   "execution_count": null,
   "metadata": {},
   "outputs": [],
   "source": [
    "dg_theta_b = (round(np.mean(dg_theta_b_list), 2))\n",
    "\n",
    "print(str(round(np.mean(dg_theta_b_list), 2))+' +- '+str(round(np.std(dg_theta_b_list)/np.sqrt(len(dg_theta_b_list)), 2)))"
   ]
  },
  {
   "cell_type": "markdown",
   "metadata": {},
   "source": [
    "Boresch Phi A"
   ]
  },
  {
   "cell_type": "code",
   "execution_count": null,
   "metadata": {},
   "outputs": [],
   "source": [
    "dg_phi_a_list = dg_contributions_restraints('3_boresch_phi_a/', k_boresch)\n",
    "dg_phi_a_list"
   ]
  },
  {
   "cell_type": "code",
   "execution_count": null,
   "metadata": {},
   "outputs": [],
   "source": [
    "dg_phi_a = (round(np.mean(dg_phi_a_list), 2))\n",
    "\n",
    "print(str(round(np.mean(dg_phi_a_list), 2))+' +- '+str(round(np.std(dg_phi_a_list)/np.sqrt(len(dg_phi_a_list)), 2)))"
   ]
  },
  {
   "cell_type": "markdown",
   "metadata": {},
   "source": [
    "Boresch Phi B"
   ]
  },
  {
   "cell_type": "code",
   "execution_count": null,
   "metadata": {},
   "outputs": [],
   "source": [
    "dg_phi_b_list = dg_contributions_restraints('4_boresch_phi_b/', k_boresch)\n",
    "dg_phi_b_list"
   ]
  },
  {
   "cell_type": "code",
   "execution_count": null,
   "metadata": {},
   "outputs": [],
   "source": [
    "dg_phi_b = (round(np.mean(dg_phi_b_list), 2))\n",
    "\n",
    "print(str(round(np.mean(dg_phi_b_list), 2))+' +- '+str(round(np.std(dg_phi_b_list)/np.sqrt(len(dg_phi_b_list)), 2)))"
   ]
  },
  {
   "cell_type": "markdown",
   "metadata": {},
   "source": [
    "Boresch Phi C"
   ]
  },
  {
   "cell_type": "code",
   "execution_count": null,
   "metadata": {},
   "outputs": [],
   "source": [
    "dg_phi_c_list = dg_contributions_restraints('5_boresch_phi_c/', k_boresch)\n",
    "dg_phi_c_list"
   ]
  },
  {
   "cell_type": "code",
   "execution_count": null,
   "metadata": {},
   "outputs": [],
   "source": [
    "dg_phi_c = (round(np.mean(dg_phi_c_list), 2))\n",
    "\n",
    "print(str(round(np.mean(dg_phi_c_list), 2))+' +- '+str(round(np.std(dg_phi_c_list)/np.sqrt(len(dg_phi_c_list)), 2)))"
   ]
  },
  {
   "cell_type": "markdown",
   "metadata": {},
   "source": [
    "Separation"
   ]
  },
  {
   "cell_type": "code",
   "execution_count": null,
   "metadata": {},
   "outputs": [],
   "source": [
    "dg_sep_list = dg_contributions_separation('6_separation/', sep_cv_max - 0.5)\n",
    "dg_sep_list"
   ]
  },
  {
   "cell_type": "code",
   "execution_count": null,
   "metadata": {},
   "outputs": [],
   "source": [
    "dg_sep = (round(np.mean(dg_sep_list), 2))\n",
    "\n",
    "print(str(round(np.mean(dg_sep_list), 2))+' +- '+str(round(np.std(dg_sep_list)/np.sqrt(len(dg_sep_list)), 2)))"
   ]
  },
  {
   "cell_type": "markdown",
   "metadata": {},
   "source": [
    "RMSD - Unbound State"
   ]
  },
  {
   "cell_type": "code",
   "execution_count": null,
   "metadata": {},
   "outputs": [],
   "source": [
    "rmsd_unbound_dir = 'rmsd_unbound/'\n",
    "found_rmsd_unbound = glob.glob(f'**/{rmsd_unbound_dir}/', recursive=True)\n",
    "\n",
    "if found_rmsd_unbound:\n",
    "    rmsd_unbound = True\n",
    "else:\n",
    "    rmsd_unbound = False"
   ]
  },
  {
   "cell_type": "code",
   "execution_count": null,
   "metadata": {},
   "outputs": [],
   "source": [
    "rmsd_unbound"
   ]
  },
  {
   "cell_type": "code",
   "execution_count": null,
   "metadata": {},
   "outputs": [],
   "source": [
    "if rmsd_unbound:\n",
    "    dg_rmsd_unbound_list = dg_contributions_restraints(rmsd_unbound_dir, k_rmsd, rmsd=True, unbound=True)\n",
    "    dg_rmsd_unbound_list\n",
    "\n",
    "    dg_rmsd_unbound = (round(np.mean(dg_rmsd_unbound_list), 2))\n",
    "\n",
    "    print(str(round(np.mean(dg_rmsd_unbound_list), 2))+' +- '+str(round(np.std(dg_rmsd_unbound_list)/np.sqrt(len(dg_rmsd_unbound_list)), 2)))"
   ]
  },
  {
   "cell_type": "markdown",
   "metadata": {},
   "source": [
    "Restraint Correction"
   ]
  },
  {
   "cell_type": "code",
   "execution_count": null,
   "metadata": {},
   "outputs": [],
   "source": [
    "# equilibrium values, modify if needed\n",
    "\n",
    "theta_a_min = 45.0*np.pi/180.0\n",
    "theta_b_min = 104.0*np.pi/180.0"
   ]
  },
  {
   "cell_type": "code",
   "execution_count": null,
   "metadata": {},
   "outputs": [],
   "source": [
    "restraints_corr = boresch_correction(sep_cv_max-0.5, theta_a_min, theta_b_min, k_boresch)\n",
    "restraints_corr"
   ]
  },
  {
   "cell_type": "markdown",
   "metadata": {},
   "source": [
    "Free Energy of Binding"
   ]
  },
  {
   "cell_type": "code",
   "execution_count": null,
   "metadata": {},
   "outputs": [],
   "source": [
    "if rmsd_bound == False and rmsd_unbound == False:\n",
    "    dg_bind = np.mean(dg_theta_a) + np.mean(dg_theta_b) + np.mean(dg_phi_a) + np.mean(dg_phi_b) + np.mean(dg_phi_c) + np.mean(dg_sep) + restraints_corr\n",
    "\n",
    "else:\n",
    "    dg_bind = np.mean(dg_rmsd_bound) + np.mean(dg_theta_a) + np.mean(dg_theta_b) + np.mean(dg_phi_a) + np.mean(dg_phi_b) + np.mean(dg_phi_c) + np.mean(dg_sep) + np.mean(dg_rmsd_unbound) + restraints_corr"
   ]
  },
  {
   "cell_type": "code",
   "execution_count": null,
   "metadata": {},
   "outputs": [],
   "source": [
    "dg_bind"
   ]
  }
 ],
 "metadata": {
  "kernelspec": {
   "display_name": "base",
   "language": "python",
   "name": "python3"
  },
  "language_info": {
   "codemirror_mode": {
    "name": "ipython",
    "version": 3
   },
   "file_extension": ".py",
   "mimetype": "text/x-python",
   "name": "python",
   "nbconvert_exporter": "python",
   "pygments_lexer": "ipython3",
   "version": "3.9.12"
  },
  "orig_nbformat": 4
 },
 "nbformat": 4,
 "nbformat_minor": 2
}
