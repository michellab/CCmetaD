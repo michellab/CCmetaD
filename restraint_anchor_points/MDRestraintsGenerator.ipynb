{
 "cells": [
  {
   "cell_type": "code",
   "execution_count": null,
   "metadata": {},
   "outputs": [],
   "source": [
    "import numpy as np\n",
    "import MDAnalysis as mda\n",
    "\n",
    "from MDRestraintsGenerator import search as _search\n",
    "from MDRestraintsGenerator.restraints import FindBoreschRestraint as _FindBoreschRestraint"
   ]
  },
  {
   "cell_type": "code",
   "execution_count": null,
   "metadata": {},
   "outputs": [],
   "source": [
    "u = mda.Universe('topology.prmtop', 'output.dcd')\n",
    "u"
   ]
  },
  {
   "cell_type": "code",
   "execution_count": null,
   "metadata": {},
   "outputs": [],
   "source": [
    "list(u.residues)"
   ]
  },
  {
   "cell_type": "code",
   "execution_count": null,
   "metadata": {},
   "outputs": [],
   "source": [
    "# search limited to backbone atoms\n",
    "receptor_selection_str = 'resid 35-68 and name CA C N' # residue indices need to be substituted for each system\n",
    "ligand_selection_str = 'resid 1-34 and name CA C N' "
   ]
  },
  {
   "cell_type": "code",
   "execution_count": null,
   "metadata": {},
   "outputs": [],
   "source": [
    "ligand_atoms = _search.find_ligand_atoms(u, l_selection=ligand_selection_str, p_align=receptor_selection_str)"
   ]
  },
  {
   "cell_type": "code",
   "execution_count": null,
   "metadata": {},
   "outputs": [],
   "source": [
    "atom_set = []\n",
    "for l_atoms in ligand_atoms:\n",
    "    psearch = _search.FindHostAtoms(u, l_atoms[0], p_selection=receptor_selection_str)\n",
    "    psearch.run()\n",
    "    atom_set.extend([(l_atoms, p) for p in psearch.host_atoms])"
   ]
  },
  {
   "cell_type": "code",
   "execution_count": null,
   "metadata": {},
   "outputs": [],
   "source": [
    "boresch = _FindBoreschRestraint(u, atom_set)\n",
    "boresch.run()"
   ]
  },
  {
   "cell_type": "code",
   "execution_count": null,
   "metadata": {},
   "outputs": [],
   "source": [
    "# Index gets reassigned multiple times\n",
    "# https://github.com/IAlibay/MDRestraintsGenerator/blob/master/MDRestraintsGenerator/datatypes.py#L810-L825\n",
    "l1_idx, r1_idx = boresch.restraint.bond.atomgroup.atoms.ix\n",
    "l2_idx, l1_idx, r1_idx = boresch.restraint.angles[0].atomgroup.atoms.ix\n",
    "l1_idx, r1_idx, r2_idx = boresch.restraint.angles[1].atomgroup.atoms.ix\n",
    "l3_idx, l2_idx, l1_idx, r1_idx = boresch.restraint.dihedrals[0].atomgroup.atoms.ix\n",
    "l2_idx, l1_idx, r1_idx, r2_idx = boresch.restraint.dihedrals[1].atomgroup.atoms.ix\n",
    "l1_idx, r1_idx, r2_idx, r3_idx = boresch.restraint.dihedrals[2].atomgroup.atoms.ix"
   ]
  },
  {
   "cell_type": "code",
   "execution_count": null,
   "metadata": {},
   "outputs": [],
   "source": [
    "stable_residues = []\n",
    "stable_points = [l1_idx, l2_idx, l3_idx, r1_idx, r2_idx, r3_idx]\n",
    "\n",
    "for point in stable_points:\n",
    "    atom = u.atoms[point]\n",
    "    residue = atom.residue\n",
    "    stable_residues.append(residue)"
   ]
  },
  {
   "cell_type": "code",
   "execution_count": null,
   "metadata": {},
   "outputs": [],
   "source": [
    "stable_residues = list(set(stable_residues))\n",
    "stable_residues"
   ]
  }
 ],
 "metadata": {
  "kernelspec": {
   "display_name": "base",
   "language": "python",
   "name": "python3"
  },
  "language_info": {
   "codemirror_mode": {
    "name": "ipython",
    "version": 3
   },
   "file_extension": ".py",
   "mimetype": "text/x-python",
   "name": "python",
   "nbconvert_exporter": "python",
   "pygments_lexer": "ipython3",
   "version": "3.9.12"
  },
  "orig_nbformat": 4
 },
 "nbformat": 4,
 "nbformat_minor": 2
}
