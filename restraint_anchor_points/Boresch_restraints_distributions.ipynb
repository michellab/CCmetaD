{
 "cells": [
  {
   "cell_type": "code",
   "execution_count": null,
   "metadata": {},
   "outputs": [],
   "source": [
    "import mdtraj as md\n",
    "import numpy as np\n",
    "import matplotlib.pyplot as plt"
   ]
  },
  {
   "cell_type": "code",
   "execution_count": null,
   "metadata": {},
   "outputs": [],
   "source": [
    "traj = md.load('trajectory.dcd', top='topology.prmtop')"
   ]
  },
  {
   "cell_type": "code",
   "execution_count": null,
   "metadata": {},
   "outputs": [],
   "source": [
    "prot = md.load_pdb('pdb_from_tleap.pdb')"
   ]
  },
  {
   "cell_type": "code",
   "execution_count": null,
   "metadata": {},
   "outputs": [],
   "source": [
    "cas = [atom.index for atom in prot.topology.atoms if (atom.name == 'CA')]\n",
    "residues= [str(res) for res in prot.topology.residues]"
   ]
  },
  {
   "cell_type": "code",
   "execution_count": null,
   "metadata": {},
   "outputs": [],
   "source": [
    "for res in residues:\n",
    "    if res.startswith('ACE'):\n",
    "        residues.remove(res)"
   ]
  },
  {
   "cell_type": "code",
   "execution_count": null,
   "metadata": {},
   "outputs": [],
   "source": [
    "for res in residues:\n",
    "    if res.startswith('NHE'):\n",
    "        residues.remove(res)"
   ]
  },
  {
   "cell_type": "code",
   "execution_count": null,
   "metadata": {},
   "outputs": [],
   "source": [
    "# anchor points for Boresch restraints\n",
    "idx = 0\n",
    "\n",
    "for i in residues:\n",
    "    if i == 'ILE11':\n",
    "        c_place = idx\n",
    "    elif i == 'LYS16':\n",
    "        b_place = idx\n",
    "    elif i == 'ASN18':\n",
    "        a_place = idx\n",
    "    elif i == 'ASN52':\n",
    "        A_place = idx\n",
    "    elif i == 'TRP57':\n",
    "        B_place = idx\n",
    "    elif i == 'ILE59':\n",
    "        C_place = idx\n",
    "    idx+=1\n",
    "\n",
    "c_idx = cas[c_place]\n",
    "b_idx = cas[b_place]\n",
    "a_idx = cas[a_place]\n",
    "A_idx = cas[A_place]\n",
    "B_idx = cas[B_place]\n",
    "C_idx = cas[C_place]"
   ]
  },
  {
   "cell_type": "code",
   "execution_count": null,
   "metadata": {},
   "outputs": [],
   "source": [
    "def angle_calc(point1, point2, point3):\n",
    "    vector1 = point1 - point2\n",
    "    vector2 = point3 - point2\n",
    "\n",
    "    dot_product = np.vdot(vector1, vector2)\n",
    "    mag_vector1 = np.linalg.norm(vector1)\n",
    "    mag_vector2 = np.linalg.norm(vector2)\n",
    "    \n",
    "    angle = np.degrees(np.arccos(dot_product/(mag_vector1*mag_vector2)))\n",
    "    \n",
    "    return angle\n"
   ]
  },
  {
   "cell_type": "code",
   "execution_count": null,
   "metadata": {},
   "outputs": [],
   "source": [
    "def dihedral_calc(point0, point1, point2, point3):\n",
    "    b0 = -1.0*(point1 - point0)\n",
    "    b1 = point2 - point1\n",
    "    b2 = point3 - point2\n",
    "\n",
    "    b0xb1 = np.cross(b0, b1)\n",
    "    b1xb2 = np.cross(b2, b1)\n",
    "\n",
    "    b0xb1_x_b1xb2 = np.cross(b0xb1, b1xb2)\n",
    "\n",
    "    y = np.vdot(b0xb1_x_b1xb2, b1)*(1.0/np.linalg.norm(b1))\n",
    "    x = np.vdot(b0xb1, b1xb2)\n",
    "\n",
    "    dihedral = np.degrees(np.arctan2(y, x))\n",
    "\n",
    "    return dihedral"
   ]
  },
  {
   "cell_type": "code",
   "execution_count": null,
   "metadata": {},
   "outputs": [],
   "source": [
    "boresch_theta_a_lst = []\n",
    "boresch_theta_b_lst = []\n",
    "boresch_phi_a_lst = []\n",
    "boresch_phi_b_lst = []\n",
    "boresch_phi_c_lst = []\n",
    "cba_list = []\n",
    "ABC_list = []\n",
    "\n",
    "frame_idx = 0\n",
    "frame_stride = 0\n",
    "\n",
    "for frame in traj[::frame_stride]:\n",
    "    c = traj.xyz[frame_idx][c_idx]\n",
    "    b = traj.xyz[frame_idx][b_idx]\n",
    "    a = traj.xyz[frame_idx][a_idx]\n",
    "    A = traj.xyz[frame_idx][A_idx]\n",
    "    B = traj.xyz[frame_idx][B_idx]\n",
    "    C = traj.xyz[frame_idx][C_idx]\n",
    "\n",
    "    cba_angle = angle_calc(c,b,a)\n",
    "    ABC_angle = angle_calc(A,B,C)\n",
    "    boresch_theta_a = angle_calc(b,a,A)\n",
    "    boresch_theta_b = angle_calc(a,A,B)\n",
    "    boresch_phi_a = dihedral_calc(c,b,a,A)\n",
    "    boresch_phi_b = dihedral_calc(b,a,A,B)\n",
    "    boresch_phi_c = dihedral_calc(a,A,B,C)\n",
    "\n",
    "    boresch_theta_a_lst.append(boresch_theta_a)\n",
    "    boresch_theta_b_lst.append(boresch_theta_b)\n",
    "    boresch_phi_a_lst.append(boresch_phi_a)\n",
    "    boresch_phi_b_lst.append(boresch_phi_b)\n",
    "    boresch_phi_c_lst.append(boresch_phi_c)\n",
    "    cba_list.append(cba_angle)\n",
    "    ABC_list.append(ABC_angle)\n",
    "\n",
    "    print(frame_idx)\n",
    "    frame_idx +=frame_stride"
   ]
  },
  {
   "cell_type": "code",
   "execution_count": null,
   "metadata": {},
   "outputs": [],
   "source": [
    "fig,ax = plt.subplots()\n",
    "\n",
    "bins = np.arange(-180, 180, 0.5)\n",
    "\n",
    "plt.hist(cba_list, bins=bins, alpha=0.5, density=True, color='blue', linewidth=2.0, label='c-b-a')\n",
    "plt.hist(ABC_list, bins=bins, alpha=0.5, density=True, color='seagreen', linewidth=2.0, label='A-B-C')\n",
    "plt.hist(boresch_theta_a_lst, bins=bins, density=True, alpha=0.5, color='hotpink', linewidth=2.0, label='${\\\\theta_{A}}$')\n",
    "plt.hist(boresch_theta_b_lst, bins=bins, density=True, alpha=0.5, color='goldenrod', linewidth=2.0, label='${\\\\theta_{B}}$')\n",
    "plt.hist(boresch_phi_a_lst, bins=bins, density=True, alpha=0.5, color='indigo', linewidth=2.0, label='${\\\\phi_{A}}$')\n",
    "plt.hist(boresch_phi_b_lst, bins=bins, density=True, alpha=0.5, color='tomato', linewidth=2.0, label='${\\\\phi_{B}}$')\n",
    "plt.hist(boresch_phi_c_lst, bins=bins, density=True, alpha=0.5, color='brown', linewidth=2.0, label='${\\\\phi_{C}}$')\n",
    "plt.xlabel('Angle / $^\\circ$', fontsize=35)\n",
    "plt.ylabel('Probability Density', fontsize=35)\n",
    "\n",
    "plt.xticks(fontsize=30)\n",
    "plt.yticks(fontsize=30)\n",
    "plt.xticks([-180,-120,-60,0,60,120,180])\n",
    "ax.set_xlim([-180.0, 180.0])\n",
    "ax.legend(fontsize=25, loc='upper right',bbox_to_anchor=(1.26, 1))\n",
    "\n",
    "plt.gcf().set_size_inches(12,6)\n",
    "\n",
    "plt.show()"
   ]
  }
 ],
 "metadata": {
  "kernelspec": {
   "display_name": "base",
   "language": "python",
   "name": "python3"
  },
  "language_info": {
   "codemirror_mode": {
    "name": "ipython",
    "version": 3
   },
   "file_extension": ".py",
   "mimetype": "text/x-python",
   "name": "python",
   "nbconvert_exporter": "python",
   "pygments_lexer": "ipython3",
   "version": "3.9.12"
  },
  "orig_nbformat": 4
 },
 "nbformat": 4,
 "nbformat_minor": 2
}
